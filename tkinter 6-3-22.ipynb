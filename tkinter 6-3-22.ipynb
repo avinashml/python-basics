{
 "cells": [
  {
   "cell_type": "code",
   "execution_count": 13,
   "id": "9d97fe85",
   "metadata": {},
   "outputs": [
    {
     "ename": "TclError",
     "evalue": "cannot use geometry manager pack inside . which already has slaves managed by grid",
     "output_type": "error",
     "traceback": [
      "\u001b[1;31m---------------------------------------------------------------------------\u001b[0m",
      "\u001b[1;31mTclError\u001b[0m                                  Traceback (most recent call last)",
      "\u001b[1;32m~\\AppData\\Local\\Temp/ipykernel_12520/2125941792.py\u001b[0m in \u001b[0;36m<module>\u001b[1;34m\u001b[0m\n\u001b[0;32m     32\u001b[0m \u001b[0mb\u001b[0m\u001b[1;33m=\u001b[0m\u001b[0mButton\u001b[0m\u001b[1;33m(\u001b[0m\u001b[0mroot\u001b[0m\u001b[1;33m,\u001b[0m\u001b[0mtext\u001b[0m\u001b[1;33m=\u001b[0m\u001b[1;34m\"Avinash ML\"\u001b[0m\u001b[1;33m,\u001b[0m\u001b[0mcommand\u001b[0m\u001b[1;33m=\u001b[0m\u001b[0mButton1\u001b[0m\u001b[1;33m)\u001b[0m\u001b[1;33m\u001b[0m\u001b[1;33m\u001b[0m\u001b[0m\n\u001b[0;32m     33\u001b[0m \u001b[1;33m\u001b[0m\u001b[0m\n\u001b[1;32m---> 34\u001b[1;33m \u001b[0mb\u001b[0m\u001b[1;33m.\u001b[0m\u001b[0mpack\u001b[0m\u001b[1;33m(\u001b[0m\u001b[1;33m)\u001b[0m\u001b[1;33m\u001b[0m\u001b[1;33m\u001b[0m\u001b[0m\n\u001b[0m\u001b[0;32m     35\u001b[0m \u001b[1;33m\u001b[0m\u001b[0m\n\u001b[0;32m     36\u001b[0m \u001b[1;33m\u001b[0m\u001b[0m\n",
      "\u001b[1;32m~\\anaconda3\\lib\\tkinter\\__init__.py\u001b[0m in \u001b[0;36mpack_configure\u001b[1;34m(self, cnf, **kw)\u001b[0m\n\u001b[0;32m   2394\u001b[0m         \u001b[0mside\u001b[0m\u001b[1;33m=\u001b[0m\u001b[0mTOP\u001b[0m \u001b[1;32mor\u001b[0m \u001b[0mBOTTOM\u001b[0m \u001b[1;32mor\u001b[0m \u001b[0mLEFT\u001b[0m \u001b[1;32mor\u001b[0m \u001b[0mRIGHT\u001b[0m \u001b[1;33m-\u001b[0m  \u001b[0mwhere\u001b[0m \u001b[0mto\u001b[0m \u001b[0madd\u001b[0m \u001b[0mthis\u001b[0m \u001b[0mwidget\u001b[0m\u001b[1;33m.\u001b[0m\u001b[1;33m\u001b[0m\u001b[1;33m\u001b[0m\u001b[0m\n\u001b[0;32m   2395\u001b[0m         \"\"\"\n\u001b[1;32m-> 2396\u001b[1;33m         self.tk.call(\n\u001b[0m\u001b[0;32m   2397\u001b[0m               \u001b[1;33m(\u001b[0m\u001b[1;34m'pack'\u001b[0m\u001b[1;33m,\u001b[0m \u001b[1;34m'configure'\u001b[0m\u001b[1;33m,\u001b[0m \u001b[0mself\u001b[0m\u001b[1;33m.\u001b[0m\u001b[0m_w\u001b[0m\u001b[1;33m)\u001b[0m\u001b[1;33m\u001b[0m\u001b[1;33m\u001b[0m\u001b[0m\n\u001b[0;32m   2398\u001b[0m               + self._options(cnf, kw))\n",
      "\u001b[1;31mTclError\u001b[0m: cannot use geometry manager pack inside . which already has slaves managed by grid"
     ]
    }
   ],
   "source": [
    "import tkinter\n",
    "from tkinter import *\n",
    "from tkinter import messagebox\n",
    "\n",
    "root=tkinter.Tk()\n",
    "root.title(\"Hello world \")\n",
    "root.geometry(\"600x600\")\n",
    "\n",
    "#label\n",
    "#label=tkinter.Label(root,text=\"hiiiii\").pack()\n",
    "\n",
    "#button\n",
    "b=Button(root,text=\"subscribe\",bg=\"yellow\",fg=\"red\")\n",
    "b.grid(column=1,row=0)\n",
    "\n",
    "#radio\n",
    "r=Radiobutton(root,text=\"python\",value=1)\n",
    "r.grid(column=2,row=1)\n",
    "r1=Radiobutton(root,text=\"c\",value=2)\n",
    "r1.grid(column=2,row=2)\n",
    "r2=Radiobutton(root,text=\"c++\",value=3)\n",
    "r2.grid(column=2,row=3)\n",
    "\n",
    "#entry\n",
    "t=Entry(root,width=10)\n",
    "t.grid(column=3,row=0)\n",
    "\n",
    "#message\n",
    "def Button1():\n",
    "    messagebox.showinfo(\"status\",\"please subscribe\")\n",
    "    \n",
    "b=Button(root,text=\"Avinash ML\",command=Button1)\n",
    "\n",
    "b.pack()\n",
    "\n",
    "\n",
    "root.mainloop()\n",
    " "
   ]
  },
  {
   "cell_type": "code",
   "execution_count": null,
   "id": "f2865e8f",
   "metadata": {},
   "outputs": [],
   "source": []
  }
 ],
 "metadata": {
  "kernelspec": {
   "display_name": "Python 3 (ipykernel)",
   "language": "python",
   "name": "python3"
  },
  "language_info": {
   "codemirror_mode": {
    "name": "ipython",
    "version": 3
   },
   "file_extension": ".py",
   "mimetype": "text/x-python",
   "name": "python",
   "nbconvert_exporter": "python",
   "pygments_lexer": "ipython3",
   "version": "3.9.7"
  }
 },
 "nbformat": 4,
 "nbformat_minor": 5
}
