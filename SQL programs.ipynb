{
 "cells": [
  {
   "cell_type": "code",
   "execution_count": 3,
   "id": "17c60ece",
   "metadata": {},
   "outputs": [
    {
     "name": "stdout",
     "output_type": "stream",
     "text": [
      "\n",
      "Database created and connected to SQLite.\n",
      "\n",
      "SQLite Database Version is:  [('3.36.0',)]\n",
      "\n",
      "The SQLite connection is closed.\n"
     ]
    }
   ],
   "source": [
    "import sqlite3\n",
    "try:\n",
    "    sqlite_Connection = sqlite3.connect('temp.db')\n",
    "    conn = sqlite_Connection.cursor()\n",
    "    print(\"\\nDatabase created and connected to SQLite.\")\n",
    "    sqlite_select_Query = \"Select sqlite_version();\"\n",
    "    conn.execute(sqlite_select_Query)\n",
    "    record = conn.fetchall()\n",
    "    print(\"\\nSQLite Database Version is: \", record)\n",
    "    conn.close()\n",
    "except sqlite3.Error as error:\n",
    "    print(\"\\nError while connecting to sqlite\", error)\n",
    "finally:\n",
    "    if (sqlite_Connection):\n",
    "        sqlite_Connection.close()\n",
    "        print(\"\\nThe SQLite connection is closed.\")"
   ]
  },
  {
   "cell_type": "code",
   "execution_count": 4,
   "id": "f294f6c2",
   "metadata": {},
   "outputs": [
    {
     "name": "stdout",
     "output_type": "stream",
     "text": [
      "\n",
      "Memory database created and connected to SQLite.\n",
      "\n",
      "Error while connecting to sqlite no such function: sqlite_versio\n",
      "\n",
      "The SQLite connection is closed.\n"
     ]
    }
   ],
   "source": [
    "#SQLite database connection to a database that resides in the memory\n",
    "import sqlite3\n",
    "try:\n",
    "    sqlite_Connection = sqlite3.connect('temp.db')\n",
    "    conn = sqlite3.connect(':memory:')\n",
    "    print(\"\\nMemory database created and connected to SQLite.\")\n",
    "    sqlite_select_Query = \"Select sqlite_versio();\"\n",
    "    conn.execute(sqlite_select_Query)\n",
    "    print(\"\\nSQLite Database Version is: \", sqlite3.version)\n",
    "    conn.close()\n",
    "except sqlite3.Error as error:\n",
    "    print(\"\\nError while connecting to sqlite\", error)\n",
    "finally:\n",
    "    if (sqlite_Connection):\n",
    "        sqlite_Connection.close()\n",
    "        print(\"\\nThe SQLite connection is closed.\")"
   ]
  },
  {
   "cell_type": "code",
   "execution_count": null,
   "id": "b02174dd",
   "metadata": {},
   "outputs": [],
   "source": []
  }
 ],
 "metadata": {
  "kernelspec": {
   "display_name": "Python 3 (ipykernel)",
   "language": "python",
   "name": "python3"
  },
  "language_info": {
   "codemirror_mode": {
    "name": "ipython",
    "version": 3
   },
   "file_extension": ".py",
   "mimetype": "text/x-python",
   "name": "python",
   "nbconvert_exporter": "python",
   "pygments_lexer": "ipython3",
   "version": "3.9.7"
  }
 },
 "nbformat": 4,
 "nbformat_minor": 5
}
