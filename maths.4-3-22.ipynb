{
 "cells": [
  {
   "cell_type": "code",
   "execution_count": 1,
   "id": "8597b351",
   "metadata": {},
   "outputs": [
    {
     "name": "stdout",
     "output_type": "stream",
     "text": [
      "enter the date: 5/12/1992\n",
      "the incremented date is:  6 12 1992\n"
     ]
    }
   ],
   "source": [
    "#checking whether date is valid\n",
    "date=input(\"enter the date: \")\n",
    "dd,mm,yy=date.split('/')\n",
    "dd=int(dd)\n",
    "mm=int(mm)\n",
    "yy=int(yy)\n",
    "if(mm==1 or mm==3 or mm==5 or mm==7 or mm==8 or mm==10 or mm==12):\n",
    "    max1=31\n",
    "elif(mm==4 or mm==6 or mm==9 or mm==11):\n",
    "    max1=29\n",
    "else:\n",
    "    max1=28\n",
    "if(mm<1 or mm<12):\n",
    "    print(\"date is invalid.\")\n",
    "elif(dd<1 or dd>max1):\n",
    "    print(\"date is invalid.\")\n",
    "elif(dd==max1 and mm!=12):\n",
    "    dd=1\n",
    "    mm=mm+1\n",
    "    print(\"the incremented date is: \",dd,mm.yy)\n",
    "else:\n",
    "    dd=dd+1\n",
    "    print(\"the incremented date is: \",dd,mm,yy)"
   ]
  },
  {
   "cell_type": "code",
   "execution_count": 2,
   "id": "eb70c559",
   "metadata": {},
   "outputs": [
    {
     "name": "stdout",
     "output_type": "stream",
     "text": [
      "enter the height in centimeters:150\n",
      "the length in inches 59.1\n",
      "the length in feet 4.92\n"
     ]
    }
   ],
   "source": [
    "#HEight is cm then convert into feet and inches\n",
    "cm=int(input(\"enter the height in centimeters:\"))\n",
    "inches=0.394*cm\n",
    "feet=0.0328*cm\n",
    "print(\"the length in inches\",round(inches,2))\n",
    "print(\"the length in feet\",round(feet,2))"
   ]
  },
  {
   "cell_type": "code",
   "execution_count": 3,
   "id": "40a4fb55",
   "metadata": {},
   "outputs": [
    {
     "name": "stdout",
     "output_type": "stream",
     "text": [
      "enter the temperature in celcius:45\n",
      "temperature in farenheit is: 113.0\n"
     ]
    }
   ],
   "source": [
    "#Conversion of C to F and vice versa\n",
    "celsius=int(input(\"enter the temperature in celcius:\"))\n",
    "f=(celsius*1.8)+32\n",
    "print(\"temperature in farenheit is:\",f)"
   ]
  },
  {
   "cell_type": "code",
   "execution_count": 4,
   "id": "f0ac1d90",
   "metadata": {},
   "outputs": [
    {
     "name": "stdout",
     "output_type": "stream",
     "text": [
      "enter an integer:64\n",
      "factors are:\n",
      "2\n"
     ]
    }
   ],
   "source": [
    "#prime factors of an integer\n",
    "n=int(input(\"enter an integer:\"))\n",
    "print(\"factors are:\")\n",
    "i=1\n",
    "while(i<=n):\n",
    "    k=0\n",
    "    if(n%i==0):\n",
    "        j=1\n",
    "        while(j<=i):\n",
    "            if(i%j==0):\n",
    "                k=k+1\n",
    "            j=j+1\n",
    "        if(k==2):\n",
    "            print(i)\n",
    "    i=i+1"
   ]
  },
  {
   "cell_type": "code",
   "execution_count": 5,
   "id": "19cc9044",
   "metadata": {},
   "outputs": [
    {
     "name": "stdout",
     "output_type": "stream",
     "text": [
      "enter an integer:45\n",
      "the divisors of the number are:\n",
      "1\n",
      "3\n",
      "5\n",
      "9\n",
      "15\n",
      "45\n"
     ]
    }
   ],
   "source": [
    "#7Divisors of an integer\n",
    "n=int(input(\"enter an integer:\"))\n",
    "print((\"the divisors of the number are:\"))\n",
    "for i in range(1,n+1):\n",
    "    if(n%i==0):\n",
    "        print(i)"
   ]
  },
  {
   "cell_type": "code",
   "execution_count": 6,
   "id": "315f0e4e",
   "metadata": {},
   "outputs": [
    {
     "name": "stdout",
     "output_type": "stream",
     "text": [
      "enter the number to print the tables for:16\n",
      "16 X 1 = 16\n",
      "16 X 2 = 16\n",
      "16 X 3 = 16\n",
      "16 X 4 = 16\n",
      "16 X 5 = 16\n",
      "16 X 6 = 16\n",
      "16 X 7 = 16\n",
      "16 X 8 = 16\n",
      "16 X 9 = 16\n",
      "16 X 10 = 16\n"
     ]
    }
   ],
   "source": [
    "#8table of a given number\n",
    "n=int(input(\"enter the number to print the tables for:\"))\n",
    "for i in range(1,11):\n",
    "    print(n,\"X\",i,\"=\",n*1)"
   ]
  },
  {
   "cell_type": "code",
   "execution_count": 7,
   "id": "fec09233",
   "metadata": {},
   "outputs": [
    {
     "name": "stdout",
     "output_type": "stream",
     "text": [
      "enter the number of elements to be in the list:5\n",
      "element: 2\n",
      "element: 3\n",
      "element: 5\n",
      "element: 9\n",
      "element: -9\n",
      "sum of all positive even numbers: 2\n",
      "sum of all positive odd numbers: 17\n",
      "sum of all negative numbers: -9\n"
     ]
    }
   ],
   "source": [
    "#9 sum of the negative numbers , sum of positive numbers(even , odd)\n",
    "n=int(input(\"enter the number of elements to be in the list:\"))\n",
    "b=[]\n",
    "for i in range(0,n):\n",
    "    a=int(input(\"element: \"))\n",
    "    b.append(a)\n",
    "sum1=0\n",
    "sum2=0\n",
    "sum3=0\n",
    "for j in b:\n",
    "    if(j>0):\n",
    "        if(j%2==0):\n",
    "            sum1=sum1+j\n",
    "        else:\n",
    "            sum2=sum2+j\n",
    "    else: \n",
    "        sum3=sum3+j\n",
    "print(\"sum of all positive even numbers:\",sum1)\n",
    "print(\"sum of all positive odd numbers:\", sum2)\n",
    "print(\"sum of all negative numbers:\",sum3)"
   ]
  },
  {
   "cell_type": "code",
   "execution_count": null,
   "id": "fd26257a",
   "metadata": {},
   "outputs": [],
   "source": [
    "#10 print largest even and largest odd number\n",
    "n=int(input(\"enter the nummber of elements to be in the list:\"))\n",
    "b=[]\n",
    "for i in range(0,n):\n",
    "    a=int(input(\"element: \"))\n",
    "    b.appned(a)\n",
    "c=[]\n",
    "d=[]\n",
    "for i in b:\n",
    "    if(i%2==0):\n",
    "        c.append(i)\n",
    "    else:\n",
    "        d.append(i)\n",
    "c.sort()\n",
    "d.sort()\n",
    "count1=0\n",
    "count2=0\n",
    "for k in c:\n",
    "    count1=count1+1\n",
    "for j in d:\n",
    "    count2=count2+1\n",
    "print(\"largest even number:\",c[count-1])\n",
    "print(\"largest odd number:\",d[count2-1])"
   ]
  },
  {
   "cell_type": "code",
   "execution_count": null,
   "id": "362e401d",
   "metadata": {},
   "outputs": [],
   "source": [
    "\n",
    "\n"
   ]
  }
 ],
 "metadata": {
  "kernelspec": {
   "display_name": "Python 3 (ipykernel)",
   "language": "python",
   "name": "python3"
  },
  "language_info": {
   "codemirror_mode": {
    "name": "ipython",
    "version": 3
   },
   "file_extension": ".py",
   "mimetype": "text/x-python",
   "name": "python",
   "nbconvert_exporter": "python",
   "pygments_lexer": "ipython3",
   "version": "3.9.7"
  }
 },
 "nbformat": 4,
 "nbformat_minor": 5
}
