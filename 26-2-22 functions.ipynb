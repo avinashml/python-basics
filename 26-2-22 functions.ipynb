{
 "cells": [
  {
   "cell_type": "code",
   "execution_count": 1,
   "id": "637cabf2",
   "metadata": {},
   "outputs": [
    {
     "name": "stdout",
     "output_type": "stream",
     "text": [
      "1\n",
      "2\n",
      "3\n",
      "4\n",
      "5\n"
     ]
    }
   ],
   "source": [
    "def functionname(a):\n",
    "    for i in a:\n",
    "        print(i)\n",
    "functionname([1,2,3,4,5])"
   ]
  },
  {
   "cell_type": "code",
   "execution_count": 2,
   "id": "fd3e13a2",
   "metadata": {},
   "outputs": [
    {
     "name": "stdout",
     "output_type": "stream",
     "text": [
      "(1, 2.33, 4, 3)\n"
     ]
    }
   ],
   "source": [
    "def functionname(*a):\n",
    "    print(a)\n",
    "functionname(1,2.33,4,3)"
   ]
  },
  {
   "cell_type": "code",
   "execution_count": 3,
   "id": "e6de40f9",
   "metadata": {},
   "outputs": [
    {
     "name": "stdout",
     "output_type": "stream",
     "text": [
      "{'name': 'avinash', 'age': 29}\n"
     ]
    }
   ],
   "source": [
    "def functionname(**a):\n",
    "    print(a)\n",
    "functionname(name='avinash',age=29)"
   ]
  },
  {
   "cell_type": "code",
   "execution_count": null,
   "id": "d521f652",
   "metadata": {},
   "outputs": [],
   "source": []
  }
 ],
 "metadata": {
  "kernelspec": {
   "display_name": "Python 3 (ipykernel)",
   "language": "python",
   "name": "python3"
  },
  "language_info": {
   "codemirror_mode": {
    "name": "ipython",
    "version": 3
   },
   "file_extension": ".py",
   "mimetype": "text/x-python",
   "name": "python",
   "nbconvert_exporter": "python",
   "pygments_lexer": "ipython3",
   "version": "3.9.7"
  }
 },
 "nbformat": 4,
 "nbformat_minor": 5
}
