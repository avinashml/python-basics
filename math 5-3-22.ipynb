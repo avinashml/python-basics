{
 "cells": [
  {
   "cell_type": "code",
   "execution_count": 1,
   "id": "f79bf319",
   "metadata": {},
   "outputs": [
    {
     "name": "stdout",
     "output_type": "stream",
     "text": [
      "enter the number:154\n",
      "the new number formed: 4\n"
     ]
    }
   ],
   "source": [
    "#integer that has no of digits at ten's plaec and least significant\n",
    "n=int(input(\"enter the number:\"))\n",
    "tmp=n\n",
    "k=0\n",
    "while(n<0):\n",
    "    k=k+1\n",
    "    n=n//10\n",
    "b=str(tmp)\n",
    "c=str(k)\n",
    "d=c+b[k-1]\n",
    "print(\"the new number formed:\",int(d))"
   ]
  },
  {
   "cell_type": "code",
   "execution_count": 2,
   "id": "e6a5e595",
   "metadata": {},
   "outputs": [
    {
     "name": "stdout",
     "output_type": "stream",
     "text": [
      "enter the lower range:12\n",
      "enter the upper range23\n"
     ]
    }
   ],
   "source": [
    "#divisibility test of 7\n",
    "lower=int(input(\"enter the lower range:\"))\n",
    "upper=int(input(\"enter the upper range\"))\n",
    "for i in range(lower,upper+1):\n",
    "    if(i%7==0 and i%5==0):\n",
    "        print(i)"
   ]
  },
  {
   "cell_type": "code",
   "execution_count": 3,
   "id": "94009c4d",
   "metadata": {},
   "outputs": [
    {
     "name": "stdout",
     "output_type": "stream",
     "text": [
      "enter any number: 45\n",
      "the number is not an armstrong number\n"
     ]
    }
   ],
   "source": [
    "#checking for armstrong number\n",
    "n=int(input(\"enter any number: \"))\n",
    "a=list(map(int,str(n)))\n",
    "b=list(map(lambda x:x**3,a))\n",
    "if(sum(b)==n):\n",
    "    print(\"the number is an armstrong number. \")\n",
    "else:\n",
    "    print(\"the number is not an armstrong number\")"
   ]
  },
  {
   "cell_type": "code",
   "execution_count": 4,
   "id": "c800d66d",
   "metadata": {},
   "outputs": [
    {
     "name": "stdout",
     "output_type": "stream",
     "text": [
      "enter number of rows: 6\n",
      "                1 \n",
      "                1      1 \n",
      "                1      2      1 \n",
      "                1      3      3      1 \n",
      "                1      4      6      4      1 \n",
      "                1      5     10     10      5      1 \n"
     ]
    }
   ],
   "source": [
    "#Print pascal triangle\n",
    "n=int(input(\"enter number of rows: \"))\n",
    "a=[]\n",
    "for i in range(n):\n",
    "    a.append([])\n",
    "    a[i].append(1)\n",
    "    for j in range(1,i):\n",
    "        a[i].append(a[i-1][j-1]+a[i-1][j])\n",
    "    if(n!=0):\n",
    "        a[i].append(1)\n",
    "for i in range(n):\n",
    "    print(\"  \"*(n-1),end=\" \",sep=\" \")\n",
    "    for j in range(0,i+1):\n",
    "        print('{0:6}'.format(a[i][j]),end=\" \",sep=\" \")\n",
    "    print()\n"
   ]
  },
  {
   "cell_type": "code",
   "execution_count": 5,
   "id": "233bd258",
   "metadata": {},
   "outputs": [
    {
     "name": "stdout",
     "output_type": "stream",
     "text": [
      "enter any numbmer: 6\n",
      "the number is a perfect number!\n"
     ]
    }
   ],
   "source": [
    "#checking if the number is a perfect number\n",
    "n = int(input(\"enter any numbmer: \"))\n",
    "sum1 = 0\n",
    "for i in range(1, n):\n",
    "    if(n % i == 0):\n",
    "        sum1 = sum1 + i\n",
    "if (sum1 == n):\n",
    "    print(\"the number is a perfect number!\")\n",
    "else: \n",
    "    print(\"the number is not perfect number\")"
   ]
  },
  {
   "cell_type": "code",
   "execution_count": 7,
   "id": "8878eae4",
   "metadata": {},
   "outputs": [
    {
     "name": "stdout",
     "output_type": "stream",
     "text": [
      "enter the first number:24\n",
      "enter the second number:36\n",
      "LCM is : 72\n"
     ]
    }
   ],
   "source": [
    "#lCM of two numbers\n",
    "a=int(input(\"enter the first number:\"))\n",
    "b=int(input(\"enter the second number:\"))\n",
    "if(a>b):\n",
    "    min1=a\n",
    "else:\n",
    "    min1=b\n",
    "while(1):\n",
    "    if(min1%a==0 and min1%b==0):\n",
    "        print(\"LCM is :\",min1)\n",
    "        break\n",
    "    min1=min1+1"
   ]
  },
  {
   "cell_type": "code",
   "execution_count": 10,
   "id": "a9bf76ca",
   "metadata": {},
   "outputs": [
    {
     "name": "stdout",
     "output_type": "stream",
     "text": [
      "enter the first nummber:25\n",
      "enter the second number:100\n"
     ]
    },
    {
     "ename": "AttributeError",
     "evalue": "module 'fractions' has no attribute 'gcd'",
     "output_type": "error",
     "traceback": [
      "\u001b[1;31m---------------------------------------------------------------------------\u001b[0m",
      "\u001b[1;31mAttributeError\u001b[0m                            Traceback (most recent call last)",
      "\u001b[1;32m~\\AppData\\Local\\Temp/ipykernel_4464/3614037803.py\u001b[0m in \u001b[0;36m<module>\u001b[1;34m\u001b[0m\n\u001b[0;32m      3\u001b[0m \u001b[0ma\u001b[0m\u001b[1;33m=\u001b[0m\u001b[0mint\u001b[0m\u001b[1;33m(\u001b[0m\u001b[0minput\u001b[0m\u001b[1;33m(\u001b[0m\u001b[1;34m\"enter the first nummber:\"\u001b[0m\u001b[1;33m)\u001b[0m\u001b[1;33m)\u001b[0m\u001b[1;33m\u001b[0m\u001b[1;33m\u001b[0m\u001b[0m\n\u001b[0;32m      4\u001b[0m \u001b[0mb\u001b[0m\u001b[1;33m=\u001b[0m\u001b[0mint\u001b[0m\u001b[1;33m(\u001b[0m\u001b[0minput\u001b[0m\u001b[1;33m(\u001b[0m\u001b[1;34m\"enter the second number:\"\u001b[0m\u001b[1;33m)\u001b[0m\u001b[1;33m)\u001b[0m\u001b[1;33m\u001b[0m\u001b[1;33m\u001b[0m\u001b[0m\n\u001b[1;32m----> 5\u001b[1;33m \u001b[0mprint\u001b[0m\u001b[1;33m(\u001b[0m\u001b[1;34m\"the gcd of the two numbers is\"\u001b[0m\u001b[1;33m,\u001b[0m\u001b[0mfractions\u001b[0m\u001b[1;33m.\u001b[0m\u001b[0mgcd\u001b[0m\u001b[1;33m(\u001b[0m\u001b[0ma\u001b[0m\u001b[1;33m,\u001b[0m\u001b[0mb\u001b[0m\u001b[1;33m)\u001b[0m\u001b[1;33m)\u001b[0m\u001b[1;33m\u001b[0m\u001b[1;33m\u001b[0m\u001b[0m\n\u001b[0m",
      "\u001b[1;31mAttributeError\u001b[0m: module 'fractions' has no attribute 'gcd'"
     ]
    }
   ],
   "source": [
    "#HCF of two numbers\n",
    "import fractions\n",
    "a=int(input(\"enter the first nummber:\"))\n",
    "b=int(input(\"enter the second number:\"))\n",
    "print(\"the gcd of the two numbers is\",fractions.gcd(a,b))"
   ]
  },
  {
   "cell_type": "code",
   "execution_count": 11,
   "id": "6b6e44f5",
   "metadata": {},
   "outputs": [],
   "source": [
    "#area of a triangle\n",
    "import math\n"
   ]
  },
  {
   "cell_type": "code",
   "execution_count": 12,
   "id": "3d133e7c",
   "metadata": {},
   "outputs": [
    {
     "name": "stdout",
     "output_type": "stream",
     "text": [
      "enter first side: 3\n",
      "enter second side: 6\n",
      "enter third side: 5\n",
      "area of the triangle is:  7.48\n"
     ]
    }
   ],
   "source": [
    "import math\n",
    "a=int(input(\"enter first side: \"))\n",
    "b=int(input(\"enter second side: \"))\n",
    "c=int(input(\"enter third side: \"))\n",
    "s=(a+b+c)/2\n",
    "area=math.sqrt(s*(s-a)*(s-b)*(s-c))\n",
    "print(\"area of the triangle is: \",round(area,2))"
   ]
  },
  {
   "cell_type": "code",
   "execution_count": 14,
   "id": "a5af473b",
   "metadata": {},
   "outputs": [
    {
     "name": "stdout",
     "output_type": "stream",
     "text": [
      "enter th first mass: 20000000\n",
      "enter the second mass: 2222\n",
      "enter the distance between the centres of the masses: 36\n",
      "hence, the gravitational force is:  0.0 N\n"
     ]
    }
   ],
   "source": [
    "#gravitational force\n",
    "m1=float(input(\"enter th first mass: \"))\n",
    "m2=float(input(\"enter the second mass: \"))\n",
    "r=float(input(\"enter the distance between the centres of the masses: \"))\n",
    "G=6.673*(10**-11)\n",
    "f=(G*m1*m2)/(r**2)\n",
    "print(\"hence, the gravitational force is: \",round(f,2),\"N\")"
   ]
  },
  {
   "cell_type": "code",
   "execution_count": null,
   "id": "8d22a40f",
   "metadata": {},
   "outputs": [],
   "source": []
  }
 ],
 "metadata": {
  "kernelspec": {
   "display_name": "Python 3 (ipykernel)",
   "language": "python",
   "name": "python3"
  },
  "language_info": {
   "codemirror_mode": {
    "name": "ipython",
    "version": 3
   },
   "file_extension": ".py",
   "mimetype": "text/x-python",
   "name": "python",
   "nbconvert_exporter": "python",
   "pygments_lexer": "ipython3",
   "version": "3.9.7"
  }
 },
 "nbformat": 4,
 "nbformat_minor": 5
}
