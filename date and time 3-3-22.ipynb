{
 "cells": [
  {
   "cell_type": "code",
   "execution_count": 1,
   "id": "b193b295",
   "metadata": {},
   "outputs": [
    {
     "name": "stdout",
     "output_type": "stream",
     "text": [
      "current date and time:  2022-03-03 18:33:52.706315\n",
      "current year:  2022\n",
      "month of the year:  March\n",
      "week number of the year:  09\n",
      "weekday of the week:  09\n",
      "day of the year:  062\n",
      "day of the week:  Thursday\n"
     ]
    }
   ],
   "source": [
    "import time\n",
    "import datetime\n",
    "print(\"current date and time: \", datetime.datetime.now())\n",
    "print(\"current year: \",  datetime.date.today().strftime(\"%Y\"))\n",
    "print(\"month of the year: \", datetime.date.today().strftime(\"%B\"))\n",
    "print(\"week number of the year: \", datetime.date.today().strftime(\"%W\"))\n",
    "print(\"weekday of the week: \", datetime.date.today().strftime(\"%W\"))\n",
    "print(\"day of the year: \", datetime.date.today().strftime(\"%j\"))\n",
    "print(\"day of the week: \", datetime.date.today().strftime(\"%A\"))"
   ]
  },
  {
   "cell_type": "code",
   "execution_count": 2,
   "id": "0df28342",
   "metadata": {},
   "outputs": [
    {
     "name": "stdout",
     "output_type": "stream",
     "text": [
      "True\n",
      "True\n"
     ]
    }
   ],
   "source": [
    "def leap_year(y):\n",
    "    if y % 400 == 0:\n",
    "        return True\n",
    "    if y % 100 == 0:\n",
    "        return False\n",
    "    if y % 4 == 0:\n",
    "        return True\n",
    "    else:\n",
    "        return False\n",
    "print(leap_year(2020))\n",
    "print(leap_year(2024))"
   ]
  },
  {
   "cell_type": "code",
   "execution_count": 3,
   "id": "f33ff86a",
   "metadata": {},
   "outputs": [
    {
     "ename": "TypeError",
     "evalue": "strptime() takes exactly 2 arguments (1 given)",
     "output_type": "error",
     "traceback": [
      "\u001b[1;31m---------------------------------------------------------------------------\u001b[0m",
      "\u001b[1;31mTypeError\u001b[0m                                 Traceback (most recent call last)",
      "\u001b[1;32m~\\AppData\\Local\\Temp/ipykernel_13360/4059103271.py\u001b[0m in \u001b[0;36m<module>\u001b[1;34m\u001b[0m\n\u001b[0;32m      1\u001b[0m \u001b[1;32mfrom\u001b[0m \u001b[0mdatetime\u001b[0m \u001b[1;32mimport\u001b[0m \u001b[0mdatetime\u001b[0m\u001b[1;33m\u001b[0m\u001b[1;33m\u001b[0m\u001b[0m\n\u001b[1;32m----> 2\u001b[1;33m \u001b[0mdate_object\u001b[0m \u001b[1;33m=\u001b[0m \u001b[0mdatetime\u001b[0m\u001b[1;33m.\u001b[0m\u001b[0mstrptime\u001b[0m\u001b[1;33m(\u001b[0m\u001b[1;34m'Mar 3 2022 6:38PM'\u001b[0m\u001b[1;33m)\u001b[0m\u001b[1;33m\u001b[0m\u001b[1;33m\u001b[0m\u001b[0m\n\u001b[0m\u001b[0;32m      3\u001b[0m \u001b[0mprint\u001b[0m\u001b[1;33m(\u001b[0m\u001b[0mdatre_object\u001b[0m\u001b[1;33m)\u001b[0m\u001b[1;33m\u001b[0m\u001b[1;33m\u001b[0m\u001b[0m\n",
      "\u001b[1;31mTypeError\u001b[0m: strptime() takes exactly 2 arguments (1 given)"
     ]
    }
   ],
   "source": [
    "from datetime import datetime\n",
    "date_object = datetime.strptime('Mar 3 2022 6:38PM')\n",
    "print(datre_object)"
   ]
  },
  {
   "cell_type": "code",
   "execution_count": 4,
   "id": "e416c4d6",
   "metadata": {},
   "outputs": [
    {
     "ename": "TypeError",
     "evalue": "strptime() takes exactly 2 arguments (1 given)",
     "output_type": "error",
     "traceback": [
      "\u001b[1;31m---------------------------------------------------------------------------\u001b[0m",
      "\u001b[1;31mTypeError\u001b[0m                                 Traceback (most recent call last)",
      "\u001b[1;32m~\\AppData\\Local\\Temp/ipykernel_13360/4101169941.py\u001b[0m in \u001b[0;36m<module>\u001b[1;34m\u001b[0m\n\u001b[0;32m      1\u001b[0m \u001b[1;32mfrom\u001b[0m \u001b[0mdatetime\u001b[0m \u001b[1;32mimport\u001b[0m \u001b[0mdatetime\u001b[0m\u001b[1;33m\u001b[0m\u001b[1;33m\u001b[0m\u001b[0m\n\u001b[1;32m----> 2\u001b[1;33m \u001b[0mdate_object\u001b[0m \u001b[1;33m=\u001b[0m \u001b[0mdatetime\u001b[0m\u001b[1;33m.\u001b[0m\u001b[0mstrptime\u001b[0m\u001b[1;33m(\u001b[0m\u001b[1;34m'Mar 3 2022 6:38PM'\u001b[0m\u001b[1;33m)\u001b[0m\u001b[1;33m\u001b[0m\u001b[1;33m\u001b[0m\u001b[0m\n\u001b[0m\u001b[0;32m      3\u001b[0m \u001b[0mprint\u001b[0m\u001b[1;33m(\u001b[0m\u001b[0mdate_object\u001b[0m\u001b[1;33m)\u001b[0m\u001b[1;33m\u001b[0m\u001b[1;33m\u001b[0m\u001b[0m\n",
      "\u001b[1;31mTypeError\u001b[0m: strptime() takes exactly 2 arguments (1 given)"
     ]
    }
   ],
   "source": [
    "from datetime import datetime\n",
    "date_object = datetime.strptime('Mar 3 2022 6:38PM')\n",
    "print(date_object)"
   ]
  },
  {
   "cell_type": "code",
   "execution_count": 5,
   "id": "dc9c94e4",
   "metadata": {},
   "outputs": [
    {
     "name": "stdout",
     "output_type": "stream",
     "text": [
      "18:40:26.949956\n"
     ]
    }
   ],
   "source": [
    "import datetime\n",
    "print(datetime.datetime.now().time())"
   ]
  },
  {
   "cell_type": "code",
   "execution_count": 6,
   "id": "25b5ff14",
   "metadata": {},
   "outputs": [
    {
     "name": "stdout",
     "output_type": "stream",
     "text": [
      "current date : 2022-03-03\n",
      "5 days before current date : 2022-02-26\n"
     ]
    }
   ],
   "source": [
    "from datetime import date, timedelta\n",
    "dt = date.today() - timedelta(5)\n",
    "print('current date :', date.today())\n",
    "print('5 days before current date :', dt)"
   ]
  },
  {
   "cell_type": "code",
   "execution_count": 8,
   "id": "936ac1c2",
   "metadata": {},
   "outputs": [
    {
     "name": "stdout",
     "output_type": "stream",
     "text": [
      "yesterday :  2022-03-02\n",
      "today :  2022-03-03\n",
      "tomorrow :  2022-03-04\n"
     ]
    }
   ],
   "source": [
    "import datetime\n",
    "today = datetime.date.today()\n",
    "yesterday = today - datetime.timedelta(days = 1)\n",
    "tomorrow = today + datetime.timedelta(days = 1)\n",
    "print('yesterday : ', yesterday)\n",
    "print('today : ', today)\n",
    "print('tomorrow : ', tomorrow)"
   ]
  },
  {
   "cell_type": "code",
   "execution_count": 9,
   "id": "3034e3fc",
   "metadata": {},
   "outputs": [
    {
     "name": "stdout",
     "output_type": "stream",
     "text": [
      "2022-03-03 00:00:00\n"
     ]
    }
   ],
   "source": [
    "from datetime import date\n",
    "from datetime import datetime\n",
    "dt = date.today()\n",
    "print(datetime.combine(dt, datetime.min.time()))"
   ]
  },
  {
   "cell_type": "code",
   "execution_count": 10,
   "id": "eeddd5c1",
   "metadata": {},
   "outputs": [
    {
     "name": "stdout",
     "output_type": "stream",
     "text": [
      "2022-03-03 18:57:26.899096\n",
      "2022-03-04 18:57:26.899096\n",
      "2022-03-05 18:57:26.899096\n",
      "2022-03-06 18:57:26.899096\n",
      "2022-03-07 18:57:26.899096\n"
     ]
    }
   ],
   "source": [
    "import datetime\n",
    "base = datetime.datetime.today()\n",
    "for x in range(0, 5):\n",
    "    print(base + datetime.timedelta(days = x))"
   ]
  },
  {
   "cell_type": "code",
   "execution_count": 11,
   "id": "cf25dd14",
   "metadata": {},
   "outputs": [
    {
     "name": "stdout",
     "output_type": "stream",
     "text": [
      "19:02:25.443727\n",
      "19:02:30.443727\n"
     ]
    }
   ],
   "source": [
    "import datetime\n",
    "x = datetime.datetime.now()\n",
    "y = x + datetime.timedelta(0,5)\n",
    "print(x.time())\n",
    "print(y.time())\n"
   ]
  },
  {
   "cell_type": "code",
   "execution_count": 12,
   "id": "625c9814",
   "metadata": {},
   "outputs": [
    {
     "name": "stdout",
     "output_type": "stream",
     "text": [
      "62\n"
     ]
    }
   ],
   "source": [
    "import datetime\n",
    "today = datetime.datetime.now()\n",
    "day_of_year = (today - datetime.datetime(today.year, 1, 1)).days + 1\n",
    "print(day_of_year)"
   ]
  },
  {
   "cell_type": "code",
   "execution_count": 13,
   "id": "8f541ae6",
   "metadata": {},
   "outputs": [
    {
     "ename": "AttributeError",
     "evalue": "'datetime.date' object has no attribute 'isocalender'",
     "output_type": "error",
     "traceback": [
      "\u001b[1;31m---------------------------------------------------------------------------\u001b[0m",
      "\u001b[1;31mAttributeError\u001b[0m                            Traceback (most recent call last)",
      "\u001b[1;32m~\\AppData\\Local\\Temp/ipykernel_13360/991252807.py\u001b[0m in \u001b[0;36m<module>\u001b[1;34m\u001b[0m\n\u001b[0;32m      1\u001b[0m \u001b[1;32mimport\u001b[0m \u001b[0mdatetime\u001b[0m\u001b[1;33m\u001b[0m\u001b[1;33m\u001b[0m\u001b[0m\n\u001b[1;32m----> 2\u001b[1;33m \u001b[0mprint\u001b[0m\u001b[1;33m(\u001b[0m\u001b[0mdatetime\u001b[0m\u001b[1;33m.\u001b[0m\u001b[0mdate\u001b[0m\u001b[1;33m(\u001b[0m\u001b[1;36m2022\u001b[0m\u001b[1;33m,\u001b[0m \u001b[1;36m3\u001b[0m\u001b[1;33m,\u001b[0m \u001b[1;36m3\u001b[0m\u001b[1;33m)\u001b[0m\u001b[1;33m.\u001b[0m\u001b[0misocalender\u001b[0m\u001b[1;33m(\u001b[0m\u001b[1;33m)\u001b[0m\u001b[1;33m[\u001b[0m\u001b[1;36m1\u001b[0m\u001b[1;33m]\u001b[0m\u001b[1;33m)\u001b[0m\u001b[1;33m\u001b[0m\u001b[1;33m\u001b[0m\u001b[0m\n\u001b[0m",
      "\u001b[1;31mAttributeError\u001b[0m: 'datetime.date' object has no attribute 'isocalender'"
     ]
    }
   ],
   "source": [
    "import datetime\n",
    "print(datetime.date(2022, 3, 3).isocalender()[1])"
   ]
  },
  {
   "cell_type": "code",
   "execution_count": null,
   "id": "3c9cf996",
   "metadata": {},
   "outputs": [],
   "source": []
  }
 ],
 "metadata": {
  "kernelspec": {
   "display_name": "Python 3 (ipykernel)",
   "language": "python",
   "name": "python3"
  },
  "language_info": {
   "codemirror_mode": {
    "name": "ipython",
    "version": 3
   },
   "file_extension": ".py",
   "mimetype": "text/x-python",
   "name": "python",
   "nbconvert_exporter": "python",
   "pygments_lexer": "ipython3",
   "version": "3.9.7"
  }
 },
 "nbformat": 4,
 "nbformat_minor": 5
}
