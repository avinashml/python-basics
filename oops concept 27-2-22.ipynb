{
 "cells": [
  {
   "cell_type": "code",
   "execution_count": 1,
   "id": "7749b109",
   "metadata": {},
   "outputs": [
    {
     "name": "stdout",
     "output_type": "stream",
     "text": [
      "this is class\n"
     ]
    }
   ],
   "source": [
    "class Avinash:\n",
    "    print(\"this is class\")"
   ]
  },
  {
   "cell_type": "code",
   "execution_count": 2,
   "id": "7941f0cd",
   "metadata": {},
   "outputs": [
    {
     "name": "stdout",
     "output_type": "stream",
     "text": [
      "this is class\n"
     ]
    },
    {
     "data": {
      "text/plain": [
       "<bound method Avinash.display of <__main__.Avinash object at 0x00000245D05E4280>>"
      ]
     },
     "execution_count": 2,
     "metadata": {},
     "output_type": "execute_result"
    }
   ],
   "source": [
    "class Avinash:\n",
    "    print(\"this is class\")\n",
    "    def display(self):\n",
    "        a=10\n",
    "        b=25\n",
    "        print(a,b)\n",
    "obj=Avinash()\n",
    "obj.display"
   ]
  },
  {
   "cell_type": "code",
   "execution_count": 3,
   "id": "0317a83f",
   "metadata": {},
   "outputs": [
    {
     "name": "stdout",
     "output_type": "stream",
     "text": [
      "this is class\n",
      "10 25\n"
     ]
    }
   ],
   "source": [
    "class Avinash:\n",
    "    print(\"this is class\")\n",
    "    def display(self):\n",
    "        a=10\n",
    "        b=25\n",
    "        print(a,b)\n",
    "obj=Avinash()\n",
    "obj.display()"
   ]
  },
  {
   "cell_type": "code",
   "execution_count": 5,
   "id": "508db29f",
   "metadata": {},
   "outputs": [],
   "source": [
    "class Mobile:\n",
    "    def __init__(self,brand,battery,ram,camera,price):\n",
    "        self.brand=brand\n",
    "        self.battery=battery\n",
    "        self.ram=ram\n",
    "        self.caera=camera\n",
    "        self.price=price\n",
    "    def display(self):\n",
    "        print(\"brand:\",self.brand)\n",
    "        print(\"battery:\",selfbattery)\n",
    "        print(\"ram:\",self.ram)\n",
    "        print(\"camera:\",self.ram)\n",
    "        print(\"price:\",self.price)\n",
    "obj=Mobile(\"Moto\", '6000mah', '6gb', '108mp', '21000')"
   ]
  },
  {
   "cell_type": "code",
   "execution_count": 6,
   "id": "d0f9fb9b",
   "metadata": {},
   "outputs": [],
   "source": [
    "class Mobile:\n",
    "    def __init__(self,brand,battery,ram,camera,price):\n",
    "        self.brand=brand\n",
    "        self.battery=battery\n",
    "        self.ram=ram\n",
    "        self.caera=camera\n",
    "        self.price=price\n",
    "    def display(self):\n",
    "        print(\"brand:\",self.brand)\n",
    "        print(\"battery:\",selfbattery)\n",
    "        print(\"ram:\",self.ram)\n",
    "        print(\"camera:\",self.ram)\n",
    "        print(\"price:\",self.price)\n",
    "obj=Mobile(\"Moto\", '6000mah', '6gb', '108mp', '21000')"
   ]
  },
  {
   "cell_type": "code",
   "execution_count": 7,
   "id": "0c0e41d7",
   "metadata": {},
   "outputs": [],
   "source": [
    "class Mobile:\n",
    "    def __init__(self,brand,battery,ram,camera,price):\n",
    "        self.brand=brand\n",
    "        self.battery=battery\n",
    "        self.ram=ram\n",
    "        self.camera=camera\n",
    "        self.price=price\n",
    "    def display(self):\n",
    "        print(\"brand:\",self.brand)\n",
    "        print(\"battery:\",self.battery)\n",
    "        print(\"ram:\",self.ram)\n",
    "        print(\"camera:\",self.camera)\n",
    "        print(\"price:\",self.price)\n",
    "obj=Mobile(\"Moto\", '6000mah', '6gb', '108mp', '21000')"
   ]
  },
  {
   "cell_type": "code",
   "execution_count": 8,
   "id": "745b207c",
   "metadata": {},
   "outputs": [
    {
     "name": "stdout",
     "output_type": "stream",
     "text": [
      "brand: Moto\n"
     ]
    },
    {
     "ename": "NameError",
     "evalue": "name 'selfbattery' is not defined",
     "output_type": "error",
     "traceback": [
      "\u001b[1;31m---------------------------------------------------------------------------\u001b[0m",
      "\u001b[1;31mNameError\u001b[0m                                 Traceback (most recent call last)",
      "\u001b[1;32m~\\AppData\\Local\\Temp/ipykernel_15324/3353712809.py\u001b[0m in \u001b[0;36m<module>\u001b[1;34m\u001b[0m\n\u001b[0;32m     13\u001b[0m         \u001b[0mprint\u001b[0m\u001b[1;33m(\u001b[0m\u001b[1;34m\"price:\"\u001b[0m\u001b[1;33m,\u001b[0m\u001b[0mself\u001b[0m\u001b[1;33m.\u001b[0m\u001b[0mprice\u001b[0m\u001b[1;33m)\u001b[0m\u001b[1;33m\u001b[0m\u001b[1;33m\u001b[0m\u001b[0m\n\u001b[0;32m     14\u001b[0m \u001b[0mobj\u001b[0m\u001b[1;33m=\u001b[0m\u001b[0mMobile\u001b[0m\u001b[1;33m(\u001b[0m\u001b[1;34m\"Moto\"\u001b[0m\u001b[1;33m,\u001b[0m \u001b[1;34m'6000mah'\u001b[0m\u001b[1;33m,\u001b[0m \u001b[1;34m'6gb'\u001b[0m\u001b[1;33m,\u001b[0m \u001b[1;34m'108mp'\u001b[0m\u001b[1;33m,\u001b[0m \u001b[1;34m'21000'\u001b[0m\u001b[1;33m)\u001b[0m\u001b[1;33m\u001b[0m\u001b[1;33m\u001b[0m\u001b[0m\n\u001b[1;32m---> 15\u001b[1;33m \u001b[0mobj\u001b[0m\u001b[1;33m.\u001b[0m\u001b[0mdisplay\u001b[0m\u001b[1;33m(\u001b[0m\u001b[1;33m)\u001b[0m\u001b[1;33m\u001b[0m\u001b[1;33m\u001b[0m\u001b[0m\n\u001b[0m",
      "\u001b[1;32m~\\AppData\\Local\\Temp/ipykernel_15324/3353712809.py\u001b[0m in \u001b[0;36mdisplay\u001b[1;34m(self)\u001b[0m\n\u001b[0;32m      8\u001b[0m     \u001b[1;32mdef\u001b[0m \u001b[0mdisplay\u001b[0m\u001b[1;33m(\u001b[0m\u001b[0mself\u001b[0m\u001b[1;33m)\u001b[0m\u001b[1;33m:\u001b[0m\u001b[1;33m\u001b[0m\u001b[1;33m\u001b[0m\u001b[0m\n\u001b[0;32m      9\u001b[0m         \u001b[0mprint\u001b[0m\u001b[1;33m(\u001b[0m\u001b[1;34m\"brand:\"\u001b[0m\u001b[1;33m,\u001b[0m\u001b[0mself\u001b[0m\u001b[1;33m.\u001b[0m\u001b[0mbrand\u001b[0m\u001b[1;33m)\u001b[0m\u001b[1;33m\u001b[0m\u001b[1;33m\u001b[0m\u001b[0m\n\u001b[1;32m---> 10\u001b[1;33m         \u001b[0mprint\u001b[0m\u001b[1;33m(\u001b[0m\u001b[1;34m\"battery:\"\u001b[0m\u001b[1;33m,\u001b[0m\u001b[0mselfbattery\u001b[0m\u001b[1;33m)\u001b[0m\u001b[1;33m\u001b[0m\u001b[1;33m\u001b[0m\u001b[0m\n\u001b[0m\u001b[0;32m     11\u001b[0m         \u001b[0mprint\u001b[0m\u001b[1;33m(\u001b[0m\u001b[1;34m\"ram:\"\u001b[0m\u001b[1;33m,\u001b[0m\u001b[0mself\u001b[0m\u001b[1;33m.\u001b[0m\u001b[0mram\u001b[0m\u001b[1;33m)\u001b[0m\u001b[1;33m\u001b[0m\u001b[1;33m\u001b[0m\u001b[0m\n\u001b[0;32m     12\u001b[0m         \u001b[0mprint\u001b[0m\u001b[1;33m(\u001b[0m\u001b[1;34m\"camera:\"\u001b[0m\u001b[1;33m,\u001b[0m\u001b[0mself\u001b[0m\u001b[1;33m.\u001b[0m\u001b[0mram\u001b[0m\u001b[1;33m)\u001b[0m\u001b[1;33m\u001b[0m\u001b[1;33m\u001b[0m\u001b[0m\n",
      "\u001b[1;31mNameError\u001b[0m: name 'selfbattery' is not defined"
     ]
    }
   ],
   "source": [
    "class Mobile:\n",
    "    def __init__(self,brand,battery,ram,camera,price):\n",
    "        self.brand=brand\n",
    "        self.battery=battery\n",
    "        self.ram=ram\n",
    "        self.caera=camera\n",
    "        self.price=price\n",
    "    def display(self):\n",
    "        print(\"brand:\",self.brand)\n",
    "        print(\"battery:\",selfbattery)\n",
    "        print(\"ram:\",self.ram)\n",
    "        print(\"camera:\",self.ram)\n",
    "        print(\"price:\",self.price)\n",
    "obj=Mobile(\"Moto\", '6000mah', '6gb', '108mp', '21000')\n",
    "obj.display()"
   ]
  },
  {
   "cell_type": "code",
   "execution_count": 9,
   "id": "f8a40735",
   "metadata": {},
   "outputs": [
    {
     "name": "stdout",
     "output_type": "stream",
     "text": [
      "brand: Moto\n",
      "battery: 6000mah\n",
      "ram: 6gb\n",
      "camera: 108mp\n",
      "price: 21000\n"
     ]
    }
   ],
   "source": [
    "class Mobile:\n",
    "    def __init__(self,brand,battery,ram,camera,price):\n",
    "        self.brand=brand\n",
    "        self.battery=battery\n",
    "        self.ram=ram\n",
    "        self.camera=camera\n",
    "        self.price=price\n",
    "    def display(self):\n",
    "        print(\"brand:\",self.brand)\n",
    "        print(\"battery:\",self.battery)\n",
    "        print(\"ram:\",self.ram)\n",
    "        print(\"camera:\",self.camera)\n",
    "        print(\"price:\",self.price)\n",
    "obj=Mobile(\"Moto\", '6000mah', '6gb', '108mp', '21000')\n",
    "obj.display()"
   ]
  },
  {
   "cell_type": "code",
   "execution_count": 10,
   "id": "c6ad3064",
   "metadata": {},
   "outputs": [
    {
     "name": "stdout",
     "output_type": "stream",
     "text": [
      "brand: Moto\n",
      "battery: 6000mah\n",
      "ram: 6gb\n",
      "camera: 108mp\n",
      "price: 21000\n",
      "brand: Moto\n",
      "battery: 6000mah\n",
      "ram: 6gb\n",
      "camera: 108mp\n",
      "price: 21000\n",
      "brand: Moto\n",
      "battery: 6000mah\n",
      "ram: 6gb\n",
      "camera: 108mp\n",
      "price: 21000\n",
      "brand: Moto\n",
      "battery: 6000mah\n",
      "ram: 6gb\n",
      "camera: 108mp\n",
      "price: 21000\n",
      "brand: Moto\n",
      "battery: 6000mah\n",
      "ram: 6gb\n",
      "camera: 108mp\n",
      "price: 21000\n"
     ]
    }
   ],
   "source": [
    "class Mobile:\n",
    "    def __init__(self,brand,battery,ram,camera,price):\n",
    "        self.brand=brand\n",
    "        self.battery=battery\n",
    "        self.ram=ram\n",
    "        self.camera=camera\n",
    "        self.price=price\n",
    "    def display(self):\n",
    "        print(\"brand:\",self.brand)\n",
    "        print(\"battery:\",self.battery)\n",
    "        print(\"ram:\",self.ram)\n",
    "        print(\"camera:\",self.camera)\n",
    "        print(\"price:\",self.price)\n",
    "for i in range(5):\n",
    "    obj=Mobile(\"Moto\", '6000mah', '6gb', '108mp', '21000')\n",
    "    obj.display()"
   ]
  },
  {
   "cell_type": "code",
   "execution_count": 12,
   "id": "11dea305",
   "metadata": {},
   "outputs": [
    {
     "name": "stdout",
     "output_type": "stream",
     "text": [
      "brand: Moto\n",
      "battery: 6000mah\n",
      "ram: 6gb\n",
      "camera: 108mp\n",
      "price: 21000\n",
      "brand: Apple\n",
      "battery: 4500mah\n",
      "ram: 4gb\n",
      "camera: 48mp\n",
      "price: 95000\n"
     ]
    }
   ],
   "source": [
    "class Mobile:\n",
    "    def __init__(self,brand,battery,ram,camera,price):\n",
    "        self.brand=brand\n",
    "        self.battery=battery\n",
    "        self.ram=ram\n",
    "        self.camera=camera\n",
    "        self.price=price\n",
    "    def display(self):\n",
    "        print(\"brand:\",self.brand)\n",
    "        print(\"battery:\",self.battery)\n",
    "        print(\"ram:\",self.ram)\n",
    "        print(\"camera:\",self.camera)\n",
    "        print(\"price:\",self.price)\n",
    "obj=Mobile(\"Moto\", '6000mah', '6gb', '108mp', '21000')\n",
    "obj.display()\n",
    "obj2=Mobile(\"Apple\", \"4500mah\", \"4gb\", \"48mp\", \"95000\")\n",
    "obj2.display()"
   ]
  },
  {
   "cell_type": "code",
   "execution_count": 13,
   "id": "e4aca1bd",
   "metadata": {},
   "outputs": [
    {
     "name": "stdout",
     "output_type": "stream",
     "text": [
      "brand: Moto\n",
      "battery: 6000mah\n",
      "ram: 6gb\n",
      "camera: 108mp\n",
      "price: 21000\n",
      "------------------\n",
      "brand: Apple\n",
      "battery: 4500mah\n",
      "ram: 4gb\n",
      "camera: 48mp\n",
      "price: 95000\n",
      "------------------\n"
     ]
    }
   ],
   "source": [
    "class Mobile:\n",
    "    def __init__(self,brand,battery,ram,camera,price):\n",
    "        self.brand=brand\n",
    "        self.battery=battery\n",
    "        self.ram=ram\n",
    "        self.camera=camera\n",
    "        self.price=price\n",
    "    def display(self):\n",
    "        print(\"brand:\",self.brand)\n",
    "        print(\"battery:\",self.battery)\n",
    "        print(\"ram:\",self.ram)\n",
    "        print(\"camera:\",self.camera)\n",
    "        print(\"price:\",self.price)\n",
    "        print(\"------------------\")\n",
    "obj=Mobile(\"Moto\", '6000mah', '6gb', '108mp', '21000')\n",
    "obj.display()\n",
    "obj2=Mobile(\"Apple\", \"4500mah\", \"4gb\", \"48mp\", \"95000\")\n",
    "obj2.display()"
   ]
  },
  {
   "cell_type": "code",
   "execution_count": 14,
   "id": "5fd84bbf",
   "metadata": {},
   "outputs": [
    {
     "name": "stdout",
     "output_type": "stream",
     "text": [
      "this is parent class\n",
      "this is child class\n"
     ]
    }
   ],
   "source": [
    "#single inheritance\n",
    "class Parent:\n",
    "    def fun1(self):\n",
    "        print(\"this is parent class\")\n",
    "class child(Parent):\n",
    "    def fun2(self):\n",
    "        print(\"this is child class\")\n",
    "obj=child()\n",
    "obj.fun1()\n",
    "obj.fun2()"
   ]
  },
  {
   "cell_type": "code",
   "execution_count": 15,
   "id": "f2e3250a",
   "metadata": {},
   "outputs": [
    {
     "name": "stdout",
     "output_type": "stream",
     "text": [
      "this is parent class\n",
      "this is child class\n",
      "this is grandchild class\n"
     ]
    }
   ],
   "source": [
    "#multilevel inheritance\n",
    "class Parent:\n",
    "    def fun1(self):\n",
    "        print(\"this is parent class\")\n",
    "class child(Parent):\n",
    "    def fun2(self):\n",
    "        print(\"this is child class\")\n",
    "class grandchild(child):\n",
    "    def fun3(self):\n",
    "        print(\"this is grandchild class\")\n",
    "obj=grandchild()\n",
    "obj.fun1()\n",
    "obj.fun2()\n",
    "obj.fun3()"
   ]
  },
  {
   "cell_type": "code",
   "execution_count": 16,
   "id": "ce47c792",
   "metadata": {},
   "outputs": [
    {
     "name": "stdout",
     "output_type": "stream",
     "text": [
      "this is parent class\n"
     ]
    },
    {
     "ename": "AttributeError",
     "evalue": "'child2' object has no attribute 'fun2'",
     "output_type": "error",
     "traceback": [
      "\u001b[1;31m---------------------------------------------------------------------------\u001b[0m",
      "\u001b[1;31mAttributeError\u001b[0m                            Traceback (most recent call last)",
      "\u001b[1;32m~\\AppData\\Local\\Temp/ipykernel_15324/4092483889.py\u001b[0m in \u001b[0;36m<module>\u001b[1;34m\u001b[0m\n\u001b[0;32m     11\u001b[0m \u001b[0mobj\u001b[0m\u001b[1;33m=\u001b[0m\u001b[0mchild2\u001b[0m\u001b[1;33m(\u001b[0m\u001b[1;33m)\u001b[0m\u001b[1;33m\u001b[0m\u001b[1;33m\u001b[0m\u001b[0m\n\u001b[0;32m     12\u001b[0m \u001b[0mobj\u001b[0m\u001b[1;33m.\u001b[0m\u001b[0mfun1\u001b[0m\u001b[1;33m(\u001b[0m\u001b[1;33m)\u001b[0m\u001b[1;33m\u001b[0m\u001b[1;33m\u001b[0m\u001b[0m\n\u001b[1;32m---> 13\u001b[1;33m \u001b[0mobj\u001b[0m\u001b[1;33m.\u001b[0m\u001b[0mfun2\u001b[0m\u001b[1;33m(\u001b[0m\u001b[1;33m)\u001b[0m\u001b[1;33m\u001b[0m\u001b[1;33m\u001b[0m\u001b[0m\n\u001b[0m\u001b[0;32m     14\u001b[0m \u001b[0mobj\u001b[0m\u001b[1;33m.\u001b[0m\u001b[0mfun3\u001b[0m\u001b[1;33m(\u001b[0m\u001b[1;33m)\u001b[0m\u001b[1;33m\u001b[0m\u001b[1;33m\u001b[0m\u001b[0m\n",
      "\u001b[1;31mAttributeError\u001b[0m: 'child2' object has no attribute 'fun2'"
     ]
    }
   ],
   "source": [
    "#hierachial inheritance\n",
    "class Parent:\n",
    "    def fun1(self):\n",
    "        print(\"this is parent class\")\n",
    "class child1(Parent):\n",
    "    def fun2(self):\n",
    "        print(\"this is child class\")\n",
    "class child2(Parent):\n",
    "    def fun3(self):\n",
    "        print(\"this is child class\")\n",
    "obj=child2()\n",
    "obj.fun1()\n",
    "obj.fun2()\n",
    "obj.fun3()"
   ]
  },
  {
   "cell_type": "code",
   "execution_count": 17,
   "id": "9bc45b89",
   "metadata": {},
   "outputs": [
    {
     "name": "stdout",
     "output_type": "stream",
     "text": [
      "this is parent class\n",
      "this is child2 class\n"
     ]
    }
   ],
   "source": [
    "class Parent:\n",
    "    def fun1(self):\n",
    "        print(\"this is parent class\")\n",
    "class child1(Parent):\n",
    "    def fun2(self):\n",
    "        print(\"this is child class\")\n",
    "class child2(Parent):\n",
    "    def fun3(self):\n",
    "        print(\"this is child2 class\")\n",
    "obj=child2()\n",
    "obj.fun1()\n",
    "#obj.fun2()\n",
    "obj.fun3()"
   ]
  },
  {
   "cell_type": "code",
   "execution_count": 18,
   "id": "c588c9a6",
   "metadata": {},
   "outputs": [
    {
     "name": "stdout",
     "output_type": "stream",
     "text": [
      "this is class B\n"
     ]
    }
   ],
   "source": [
    "#super key word\n",
    "class A:\n",
    "    def __init__(self):\n",
    "        print(\"this is class A\")\n",
    "    def fun1(self):\n",
    "        print(\"this is father class\")\n",
    "class B(A):\n",
    "    def __init__(self):\n",
    "        print(\"this is class B\")\n",
    "    def fun2(self):\n",
    "        print(\"this is mother class\")\n",
    "obj=B()\n"
   ]
  },
  {
   "cell_type": "code",
   "execution_count": 19,
   "id": "bf34215d",
   "metadata": {},
   "outputs": [
    {
     "name": "stdout",
     "output_type": "stream",
     "text": [
      "this is class B\n",
      "this is class A\n"
     ]
    }
   ],
   "source": [
    "#super key word\n",
    "class A:\n",
    "    def __init__(self):\n",
    "        print(\"this is class A\")\n",
    "    def fun1(self):\n",
    "        print(\"this is father class\")\n",
    "class B(A):\n",
    "    def __init__(self):\n",
    "        print(\"this is class B\")\n",
    "        super().__init__()\n",
    "    def fun2(self):\n",
    "        print(\"this is mother class\")\n",
    "obj=B()\n"
   ]
  },
  {
   "cell_type": "code",
   "execution_count": null,
   "id": "abd4e9e6",
   "metadata": {},
   "outputs": [],
   "source": []
  }
 ],
 "metadata": {
  "kernelspec": {
   "display_name": "Python 3 (ipykernel)",
   "language": "python",
   "name": "python3"
  },
  "language_info": {
   "codemirror_mode": {
    "name": "ipython",
    "version": 3
   },
   "file_extension": ".py",
   "mimetype": "text/x-python",
   "name": "python",
   "nbconvert_exporter": "python",
   "pygments_lexer": "ipython3",
   "version": "3.9.7"
  }
 },
 "nbformat": 4,
 "nbformat_minor": 5
}
