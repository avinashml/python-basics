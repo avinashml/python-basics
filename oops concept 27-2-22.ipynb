{
 "cells": [
  {
   "cell_type": "code",
   "execution_count": 1,
   "id": "4f116470",
   "metadata": {},
   "outputs": [
    {
     "name": "stdout",
     "output_type": "stream",
     "text": [
      "this is class\n"
     ]
    }
   ],
   "source": [
    "class Avinash:\n",
    "    print(\"this is class\")"
   ]
  },
  {
   "cell_type": "code",
   "execution_count": 2,
   "id": "fded53c8",
   "metadata": {},
   "outputs": [
    {
     "name": "stdout",
     "output_type": "stream",
     "text": [
      "this is class\n"
     ]
    },
    {
     "data": {
      "text/plain": [
       "<bound method Avinash.display of <__main__.Avinash object at 0x00000245D05E4280>>"
      ]
     },
     "execution_count": 2,
     "metadata": {},
     "output_type": "execute_result"
    }
   ],
   "source": [
    "class Avinash:\n",
    "    print(\"this is class\")\n",
    "    def display(self):\n",
    "        a=10\n",
    "        b=25\n",
    "        print(a,b)\n",
    "obj=Avinash()\n",
    "obj.display"
   ]
  },
  {
   "cell_type": "code",
   "execution_count": 3,
   "id": "2f6eb49c",
   "metadata": {},
   "outputs": [
    {
     "name": "stdout",
     "output_type": "stream",
     "text": [
      "this is class\n",
      "10 25\n"
     ]
    }
   ],
   "source": [
    "class Avinash:\n",
    "    print(\"this is class\")\n",
    "    def display(self):\n",
    "        a=10\n",
    "        b=25\n",
    "        print(a,b)\n",
    "obj=Avinash()\n",
    "obj.display()"
   ]
  },
  {
   "cell_type": "code",
   "execution_count": 5,
   "id": "263c3ee2",
   "metadata": {},
   "outputs": [],
   "source": [
    "class Mobile:\n",
    "    def __init__(self,brand,battery,ram,camera,price):\n",
    "        self.brand=brand\n",
    "        self.battery=battery\n",
    "        self.ram=ram\n",
    "        self.caera=camera\n",
    "        self.price=price\n",
    "    def display(self):\n",
    "        print(\"brand:\",self.brand)\n",
    "        print(\"battery:\",selfbattery)\n",
    "        print(\"ram:\",self.ram)\n",
    "        print(\"camera:\",self.ram)\n",
    "        print(\"price:\",self.price)\n",
    "obj=Mobile(\"Moto\", '6000mah', '6gb', '108mp', '21000')"
   ]
  },
  {
   "cell_type": "code",
   "execution_count": 6,
   "id": "e5060ff1",
   "metadata": {},
   "outputs": [],
   "source": [
    "class Mobile:\n",
    "    def __init__(self,brand,battery,ram,camera,price):\n",
    "        self.brand=brand\n",
    "        self.battery=battery\n",
    "        self.ram=ram\n",
    "        self.caera=camera\n",
    "        self.price=price\n",
    "    def display(self):\n",
    "        print(\"brand:\",self.brand)\n",
    "        print(\"battery:\",selfbattery)\n",
    "        print(\"ram:\",self.ram)\n",
    "        print(\"camera:\",self.ram)\n",
    "        print(\"price:\",self.price)\n",
    "obj=Mobile(\"Moto\", '6000mah', '6gb', '108mp', '21000')"
   ]
  },
  {
   "cell_type": "code",
   "execution_count": 7,
   "id": "292b5db6",
   "metadata": {},
   "outputs": [],
   "source": [
    "class Mobile:\n",
    "    def __init__(self,brand,battery,ram,camera,price):\n",
    "        self.brand=brand\n",
    "        self.battery=battery\n",
    "        self.ram=ram\n",
    "        self.camera=camera\n",
    "        self.price=price\n",
    "    def display(self):\n",
    "        print(\"brand:\",self.brand)\n",
    "        print(\"battery:\",self.battery)\n",
    "        print(\"ram:\",self.ram)\n",
    "        print(\"camera:\",self.camera)\n",
    "        print(\"price:\",self.price)\n",
    "obj=Mobile(\"Moto\", '6000mah', '6gb', '108mp', '21000')"
   ]
  },
  {
   "cell_type": "code",
   "execution_count": 8,
   "id": "d9a39c73",
   "metadata": {},
   "outputs": [
    {
     "name": "stdout",
     "output_type": "stream",
     "text": [
      "brand: Moto\n"
     ]
    },
    {
     "ename": "NameError",
     "evalue": "name 'selfbattery' is not defined",
     "output_type": "error",
     "traceback": [
      "\u001b[1;31m---------------------------------------------------------------------------\u001b[0m",
      "\u001b[1;31mNameError\u001b[0m                                 Traceback (most recent call last)",
      "\u001b[1;32m~\\AppData\\Local\\Temp/ipykernel_15324/3353712809.py\u001b[0m in \u001b[0;36m<module>\u001b[1;34m\u001b[0m\n\u001b[0;32m     13\u001b[0m         \u001b[0mprint\u001b[0m\u001b[1;33m(\u001b[0m\u001b[1;34m\"price:\"\u001b[0m\u001b[1;33m,\u001b[0m\u001b[0mself\u001b[0m\u001b[1;33m.\u001b[0m\u001b[0mprice\u001b[0m\u001b[1;33m)\u001b[0m\u001b[1;33m\u001b[0m\u001b[1;33m\u001b[0m\u001b[0m\n\u001b[0;32m     14\u001b[0m \u001b[0mobj\u001b[0m\u001b[1;33m=\u001b[0m\u001b[0mMobile\u001b[0m\u001b[1;33m(\u001b[0m\u001b[1;34m\"Moto\"\u001b[0m\u001b[1;33m,\u001b[0m \u001b[1;34m'6000mah'\u001b[0m\u001b[1;33m,\u001b[0m \u001b[1;34m'6gb'\u001b[0m\u001b[1;33m,\u001b[0m \u001b[1;34m'108mp'\u001b[0m\u001b[1;33m,\u001b[0m \u001b[1;34m'21000'\u001b[0m\u001b[1;33m)\u001b[0m\u001b[1;33m\u001b[0m\u001b[1;33m\u001b[0m\u001b[0m\n\u001b[1;32m---> 15\u001b[1;33m \u001b[0mobj\u001b[0m\u001b[1;33m.\u001b[0m\u001b[0mdisplay\u001b[0m\u001b[1;33m(\u001b[0m\u001b[1;33m)\u001b[0m\u001b[1;33m\u001b[0m\u001b[1;33m\u001b[0m\u001b[0m\n\u001b[0m",
      "\u001b[1;32m~\\AppData\\Local\\Temp/ipykernel_15324/3353712809.py\u001b[0m in \u001b[0;36mdisplay\u001b[1;34m(self)\u001b[0m\n\u001b[0;32m      8\u001b[0m     \u001b[1;32mdef\u001b[0m \u001b[0mdisplay\u001b[0m\u001b[1;33m(\u001b[0m\u001b[0mself\u001b[0m\u001b[1;33m)\u001b[0m\u001b[1;33m:\u001b[0m\u001b[1;33m\u001b[0m\u001b[1;33m\u001b[0m\u001b[0m\n\u001b[0;32m      9\u001b[0m         \u001b[0mprint\u001b[0m\u001b[1;33m(\u001b[0m\u001b[1;34m\"brand:\"\u001b[0m\u001b[1;33m,\u001b[0m\u001b[0mself\u001b[0m\u001b[1;33m.\u001b[0m\u001b[0mbrand\u001b[0m\u001b[1;33m)\u001b[0m\u001b[1;33m\u001b[0m\u001b[1;33m\u001b[0m\u001b[0m\n\u001b[1;32m---> 10\u001b[1;33m         \u001b[0mprint\u001b[0m\u001b[1;33m(\u001b[0m\u001b[1;34m\"battery:\"\u001b[0m\u001b[1;33m,\u001b[0m\u001b[0mselfbattery\u001b[0m\u001b[1;33m)\u001b[0m\u001b[1;33m\u001b[0m\u001b[1;33m\u001b[0m\u001b[0m\n\u001b[0m\u001b[0;32m     11\u001b[0m         \u001b[0mprint\u001b[0m\u001b[1;33m(\u001b[0m\u001b[1;34m\"ram:\"\u001b[0m\u001b[1;33m,\u001b[0m\u001b[0mself\u001b[0m\u001b[1;33m.\u001b[0m\u001b[0mram\u001b[0m\u001b[1;33m)\u001b[0m\u001b[1;33m\u001b[0m\u001b[1;33m\u001b[0m\u001b[0m\n\u001b[0;32m     12\u001b[0m         \u001b[0mprint\u001b[0m\u001b[1;33m(\u001b[0m\u001b[1;34m\"camera:\"\u001b[0m\u001b[1;33m,\u001b[0m\u001b[0mself\u001b[0m\u001b[1;33m.\u001b[0m\u001b[0mram\u001b[0m\u001b[1;33m)\u001b[0m\u001b[1;33m\u001b[0m\u001b[1;33m\u001b[0m\u001b[0m\n",
      "\u001b[1;31mNameError\u001b[0m: name 'selfbattery' is not defined"
     ]
    }
   ],
   "source": [
    "class Mobile:\n",
    "    def __init__(self,brand,battery,ram,camera,price):\n",
    "        self.brand=brand\n",
    "        self.battery=battery\n",
    "        self.ram=ram\n",
    "        self.caera=camera\n",
    "        self.price=price\n",
    "    def display(self):\n",
    "        print(\"brand:\",self.brand)\n",
    "        print(\"battery:\",selfbattery)\n",
    "        print(\"ram:\",self.ram)\n",
    "        print(\"camera:\",self.ram)\n",
    "        print(\"price:\",self.price)\n",
    "obj=Mobile(\"Moto\", '6000mah', '6gb', '108mp', '21000')\n",
    "obj.display()"
   ]
  },
  {
   "cell_type": "code",
   "execution_count": 9,
   "id": "f9609eaf",
   "metadata": {},
   "outputs": [
    {
     "name": "stdout",
     "output_type": "stream",
     "text": [
      "brand: Moto\n",
      "battery: 6000mah\n",
      "ram: 6gb\n",
      "camera: 108mp\n",
      "price: 21000\n"
     ]
    }
   ],
   "source": [
    "class Mobile:\n",
    "    def __init__(self,brand,battery,ram,camera,price):\n",
    "        self.brand=brand\n",
    "        self.battery=battery\n",
    "        self.ram=ram\n",
    "        self.camera=camera\n",
    "        self.price=price\n",
    "    def display(self):\n",
    "        print(\"brand:\",self.brand)\n",
    "        print(\"battery:\",self.battery)\n",
    "        print(\"ram:\",self.ram)\n",
    "        print(\"camera:\",self.camera)\n",
    "        print(\"price:\",self.price)\n",
    "obj=Mobile(\"Moto\", '6000mah', '6gb', '108mp', '21000')\n",
    "obj.display()"
   ]
  },
  {
   "cell_type": "code",
   "execution_count": null,
   "id": "2cae94f0",
   "metadata": {},
   "outputs": [],
   "source": []
  }
 ],
 "metadata": {
  "kernelspec": {
   "display_name": "Python 3 (ipykernel)",
   "language": "python",
   "name": "python3"
  },
  "language_info": {
   "codemirror_mode": {
    "name": "ipython",
    "version": 3
   },
   "file_extension": ".py",
   "mimetype": "text/x-python",
   "name": "python",
   "nbconvert_exporter": "python",
   "pygments_lexer": "ipython3",
   "version": "3.9.7"
  }
 },
 "nbformat": 4,
 "nbformat_minor": 5
}
